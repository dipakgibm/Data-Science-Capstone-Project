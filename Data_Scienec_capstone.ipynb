{
  "cells": [
    {
      "cell_type": "markdown",
      "source": [
        "Load the data of 311 service request from 2010 to Present"
      ],
      "metadata": {
        "id": "pZ2XQesrmEm6"
      }
    },
    {
      "cell_type": "code",
      "source": [
        "!wget https://cf-courses-data.s3.us.cloud-object-storage.appdomain.cloud/IBMDeveloperSkillsNetwork-DS0720EN-SkillsNetwork/labs/Module%201/data/311_Service_Requests_from_2010_to_Present_min.csv\n"
      ],
      "metadata": {
        "colab": {
          "base_uri": "https://localhost:8080/"
        },
        "id": "LCVCAd4zeoAi",
        "outputId": "48e6023d-095e-400a-e7d2-4ecef491c77d"
      },
      "execution_count": null,
      "outputs": [
        {
          "output_type": "stream",
          "name": "stdout",
          "text": [
            "--2022-08-06 14:06:56--  https://cf-courses-data.s3.us.cloud-object-storage.appdomain.cloud/IBMDeveloperSkillsNetwork-DS0720EN-SkillsNetwork/labs/Module%201/data/311_Service_Requests_from_2010_to_Present_min.csv\n",
            "Resolving cf-courses-data.s3.us.cloud-object-storage.appdomain.cloud (cf-courses-data.s3.us.cloud-object-storage.appdomain.cloud)... 198.23.119.245\n",
            "Connecting to cf-courses-data.s3.us.cloud-object-storage.appdomain.cloud (cf-courses-data.s3.us.cloud-object-storage.appdomain.cloud)|198.23.119.245|:443... connected.\n",
            "HTTP request sent, awaiting response... 200 OK\n",
            "Length: 2545715787 (2.4G) [text/csv]\n",
            "Saving to: ‘311_Service_Requests_from_2010_to_Present_min.csv’\n",
            "\n",
            "311_Service_Request 100%[===================>]   2.37G  34.9MB/s    in 76s     \n",
            "\n",
            "2022-08-06 14:08:12 (31.9 MB/s) - ‘311_Service_Requests_from_2010_to_Present_min.csv’ saved [2545715787/2545715787]\n",
            "\n"
          ]
        }
      ]
    },
    {
      "cell_type": "code",
      "source": [
        "!ls # Check the file is downloaded"
      ],
      "metadata": {
        "id": "U6RGFUxTmRoz"
      },
      "execution_count": null,
      "outputs": []
    },
    {
      "cell_type": "code",
      "source": [
        "\n",
        "import pandas as pd\n",
        "\n",
        "#lacal path of data from my computer\n",
        "data =\"311_Service_Requests_from_2010_to_Present_min.csv\"\n",
        "\n",
        "df = pd.read_csv(data)\n",
        "df.head()"
      ],
      "metadata": {
        "colab": {
          "base_uri": "https://localhost:8080/",
          "height": 354
        },
        "id": "X2Ny4WKVfMeb",
        "outputId": "96eca7a0-0506-47cc-987f-ec2b6d8eac4b"
      },
      "execution_count": null,
      "outputs": [
        {
          "output_type": "execute_result",
          "data": {
            "text/plain": [
              "   Unnamed: 0  Unique Key            Created Date Closed Date  \\\n",
              "0           0    45531130  02/02/2020 06:09:17 AM         NaN   \n",
              "1           1    45529784  02/02/2020 02:15:24 PM         NaN   \n",
              "2           2    45527528  02/02/2020 02:27:41 AM         NaN   \n",
              "3           3    45530329  02/02/2020 12:13:18 PM         NaN   \n",
              "4           4    45528814  02/02/2020 01:59:44 PM         NaN   \n",
              "\n",
              "         Complaint Type         Location Type  Incident Zip  \\\n",
              "0        HEAT/HOT WATER  RESIDENTIAL BUILDING       10019.0   \n",
              "1  UNSANITARY CONDITION  RESIDENTIAL BUILDING       11204.0   \n",
              "2        HEAT/HOT WATER  RESIDENTIAL BUILDING       11372.0   \n",
              "3        HEAT/HOT WATER  RESIDENTIAL BUILDING       10458.0   \n",
              "4             APPLIANCE  RESIDENTIAL BUILDING       11209.0   \n",
              "\n",
              "          Incident Address         Street Name Address Type             City  \\\n",
              "0     426 WEST   52 STREET    WEST   52 STREET      ADDRESS         NEW YORK   \n",
              "1           1751 67 STREET           67 STREET      ADDRESS         BROOKLYN   \n",
              "2          87-15 37 AVENUE           37 AVENUE      ADDRESS  Jackson Heights   \n",
              "3  2405 SOUTHERN BOULEVARD  SOUTHERN BOULEVARD      ADDRESS            BRONX   \n",
              "4            223 78 STREET           78 STREET      ADDRESS         BROOKLYN   \n",
              "\n",
              "  Status                             Resolution Description    Borough  \\\n",
              "0   Open  The following complaint conditions are still o...  MANHATTAN   \n",
              "1   Open  The following complaint conditions are still o...   BROOKLYN   \n",
              "2   Open  The following complaint conditions are still o...     QUEENS   \n",
              "3   Open  The following complaint conditions are still o...      BRONX   \n",
              "4   Open  The following complaint conditions are still o...   BROOKLYN   \n",
              "\n",
              "    Latitude  Longitude  \n",
              "0  40.765132 -73.988993  \n",
              "1  40.618484 -73.992673  \n",
              "2  40.750269 -73.879432  \n",
              "3  40.853773 -73.881558  \n",
              "4  40.629745 -74.030533  "
            ],
            "text/html": [
              "\n",
              "  <div id=\"df-51d161f3-bb31-4bee-93dc-7ea21a262198\">\n",
              "    <div class=\"colab-df-container\">\n",
              "      <div>\n",
              "<style scoped>\n",
              "    .dataframe tbody tr th:only-of-type {\n",
              "        vertical-align: middle;\n",
              "    }\n",
              "\n",
              "    .dataframe tbody tr th {\n",
              "        vertical-align: top;\n",
              "    }\n",
              "\n",
              "    .dataframe thead th {\n",
              "        text-align: right;\n",
              "    }\n",
              "</style>\n",
              "<table border=\"1\" class=\"dataframe\">\n",
              "  <thead>\n",
              "    <tr style=\"text-align: right;\">\n",
              "      <th></th>\n",
              "      <th>Unnamed: 0</th>\n",
              "      <th>Unique Key</th>\n",
              "      <th>Created Date</th>\n",
              "      <th>Closed Date</th>\n",
              "      <th>Complaint Type</th>\n",
              "      <th>Location Type</th>\n",
              "      <th>Incident Zip</th>\n",
              "      <th>Incident Address</th>\n",
              "      <th>Street Name</th>\n",
              "      <th>Address Type</th>\n",
              "      <th>City</th>\n",
              "      <th>Status</th>\n",
              "      <th>Resolution Description</th>\n",
              "      <th>Borough</th>\n",
              "      <th>Latitude</th>\n",
              "      <th>Longitude</th>\n",
              "    </tr>\n",
              "  </thead>\n",
              "  <tbody>\n",
              "    <tr>\n",
              "      <th>0</th>\n",
              "      <td>0</td>\n",
              "      <td>45531130</td>\n",
              "      <td>02/02/2020 06:09:17 AM</td>\n",
              "      <td>NaN</td>\n",
              "      <td>HEAT/HOT WATER</td>\n",
              "      <td>RESIDENTIAL BUILDING</td>\n",
              "      <td>10019.0</td>\n",
              "      <td>426 WEST   52 STREET</td>\n",
              "      <td>WEST   52 STREET</td>\n",
              "      <td>ADDRESS</td>\n",
              "      <td>NEW YORK</td>\n",
              "      <td>Open</td>\n",
              "      <td>The following complaint conditions are still o...</td>\n",
              "      <td>MANHATTAN</td>\n",
              "      <td>40.765132</td>\n",
              "      <td>-73.988993</td>\n",
              "    </tr>\n",
              "    <tr>\n",
              "      <th>1</th>\n",
              "      <td>1</td>\n",
              "      <td>45529784</td>\n",
              "      <td>02/02/2020 02:15:24 PM</td>\n",
              "      <td>NaN</td>\n",
              "      <td>UNSANITARY CONDITION</td>\n",
              "      <td>RESIDENTIAL BUILDING</td>\n",
              "      <td>11204.0</td>\n",
              "      <td>1751 67 STREET</td>\n",
              "      <td>67 STREET</td>\n",
              "      <td>ADDRESS</td>\n",
              "      <td>BROOKLYN</td>\n",
              "      <td>Open</td>\n",
              "      <td>The following complaint conditions are still o...</td>\n",
              "      <td>BROOKLYN</td>\n",
              "      <td>40.618484</td>\n",
              "      <td>-73.992673</td>\n",
              "    </tr>\n",
              "    <tr>\n",
              "      <th>2</th>\n",
              "      <td>2</td>\n",
              "      <td>45527528</td>\n",
              "      <td>02/02/2020 02:27:41 AM</td>\n",
              "      <td>NaN</td>\n",
              "      <td>HEAT/HOT WATER</td>\n",
              "      <td>RESIDENTIAL BUILDING</td>\n",
              "      <td>11372.0</td>\n",
              "      <td>87-15 37 AVENUE</td>\n",
              "      <td>37 AVENUE</td>\n",
              "      <td>ADDRESS</td>\n",
              "      <td>Jackson Heights</td>\n",
              "      <td>Open</td>\n",
              "      <td>The following complaint conditions are still o...</td>\n",
              "      <td>QUEENS</td>\n",
              "      <td>40.750269</td>\n",
              "      <td>-73.879432</td>\n",
              "    </tr>\n",
              "    <tr>\n",
              "      <th>3</th>\n",
              "      <td>3</td>\n",
              "      <td>45530329</td>\n",
              "      <td>02/02/2020 12:13:18 PM</td>\n",
              "      <td>NaN</td>\n",
              "      <td>HEAT/HOT WATER</td>\n",
              "      <td>RESIDENTIAL BUILDING</td>\n",
              "      <td>10458.0</td>\n",
              "      <td>2405 SOUTHERN BOULEVARD</td>\n",
              "      <td>SOUTHERN BOULEVARD</td>\n",
              "      <td>ADDRESS</td>\n",
              "      <td>BRONX</td>\n",
              "      <td>Open</td>\n",
              "      <td>The following complaint conditions are still o...</td>\n",
              "      <td>BRONX</td>\n",
              "      <td>40.853773</td>\n",
              "      <td>-73.881558</td>\n",
              "    </tr>\n",
              "    <tr>\n",
              "      <th>4</th>\n",
              "      <td>4</td>\n",
              "      <td>45528814</td>\n",
              "      <td>02/02/2020 01:59:44 PM</td>\n",
              "      <td>NaN</td>\n",
              "      <td>APPLIANCE</td>\n",
              "      <td>RESIDENTIAL BUILDING</td>\n",
              "      <td>11209.0</td>\n",
              "      <td>223 78 STREET</td>\n",
              "      <td>78 STREET</td>\n",
              "      <td>ADDRESS</td>\n",
              "      <td>BROOKLYN</td>\n",
              "      <td>Open</td>\n",
              "      <td>The following complaint conditions are still o...</td>\n",
              "      <td>BROOKLYN</td>\n",
              "      <td>40.629745</td>\n",
              "      <td>-74.030533</td>\n",
              "    </tr>\n",
              "  </tbody>\n",
              "</table>\n",
              "</div>\n",
              "      <button class=\"colab-df-convert\" onclick=\"convertToInteractive('df-51d161f3-bb31-4bee-93dc-7ea21a262198')\"\n",
              "              title=\"Convert this dataframe to an interactive table.\"\n",
              "              style=\"display:none;\">\n",
              "        \n",
              "  <svg xmlns=\"http://www.w3.org/2000/svg\" height=\"24px\"viewBox=\"0 0 24 24\"\n",
              "       width=\"24px\">\n",
              "    <path d=\"M0 0h24v24H0V0z\" fill=\"none\"/>\n",
              "    <path d=\"M18.56 5.44l.94 2.06.94-2.06 2.06-.94-2.06-.94-.94-2.06-.94 2.06-2.06.94zm-11 1L8.5 8.5l.94-2.06 2.06-.94-2.06-.94L8.5 2.5l-.94 2.06-2.06.94zm10 10l.94 2.06.94-2.06 2.06-.94-2.06-.94-.94-2.06-.94 2.06-2.06.94z\"/><path d=\"M17.41 7.96l-1.37-1.37c-.4-.4-.92-.59-1.43-.59-.52 0-1.04.2-1.43.59L10.3 9.45l-7.72 7.72c-.78.78-.78 2.05 0 2.83L4 21.41c.39.39.9.59 1.41.59.51 0 1.02-.2 1.41-.59l7.78-7.78 2.81-2.81c.8-.78.8-2.07 0-2.86zM5.41 20L4 18.59l7.72-7.72 1.47 1.35L5.41 20z\"/>\n",
              "  </svg>\n",
              "      </button>\n",
              "      \n",
              "  <style>\n",
              "    .colab-df-container {\n",
              "      display:flex;\n",
              "      flex-wrap:wrap;\n",
              "      gap: 12px;\n",
              "    }\n",
              "\n",
              "    .colab-df-convert {\n",
              "      background-color: #E8F0FE;\n",
              "      border: none;\n",
              "      border-radius: 50%;\n",
              "      cursor: pointer;\n",
              "      display: none;\n",
              "      fill: #1967D2;\n",
              "      height: 32px;\n",
              "      padding: 0 0 0 0;\n",
              "      width: 32px;\n",
              "    }\n",
              "\n",
              "    .colab-df-convert:hover {\n",
              "      background-color: #E2EBFA;\n",
              "      box-shadow: 0px 1px 2px rgba(60, 64, 67, 0.3), 0px 1px 3px 1px rgba(60, 64, 67, 0.15);\n",
              "      fill: #174EA6;\n",
              "    }\n",
              "\n",
              "    [theme=dark] .colab-df-convert {\n",
              "      background-color: #3B4455;\n",
              "      fill: #D2E3FC;\n",
              "    }\n",
              "\n",
              "    [theme=dark] .colab-df-convert:hover {\n",
              "      background-color: #434B5C;\n",
              "      box-shadow: 0px 1px 3px 1px rgba(0, 0, 0, 0.15);\n",
              "      filter: drop-shadow(0px 1px 2px rgba(0, 0, 0, 0.3));\n",
              "      fill: #FFFFFF;\n",
              "    }\n",
              "  </style>\n",
              "\n",
              "      <script>\n",
              "        const buttonEl =\n",
              "          document.querySelector('#df-51d161f3-bb31-4bee-93dc-7ea21a262198 button.colab-df-convert');\n",
              "        buttonEl.style.display =\n",
              "          google.colab.kernel.accessAllowed ? 'block' : 'none';\n",
              "\n",
              "        async function convertToInteractive(key) {\n",
              "          const element = document.querySelector('#df-51d161f3-bb31-4bee-93dc-7ea21a262198');\n",
              "          const dataTable =\n",
              "            await google.colab.kernel.invokeFunction('convertToInteractive',\n",
              "                                                     [key], {});\n",
              "          if (!dataTable) return;\n",
              "\n",
              "          const docLinkHtml = 'Like what you see? Visit the ' +\n",
              "            '<a target=\"_blank\" href=https://colab.research.google.com/notebooks/data_table.ipynb>data table notebook</a>'\n",
              "            + ' to learn more about interactive tables.';\n",
              "          element.innerHTML = '';\n",
              "          dataTable['output_type'] = 'display_data';\n",
              "          await google.colab.output.renderOutput(dataTable, element);\n",
              "          const docLink = document.createElement('div');\n",
              "          docLink.innerHTML = docLinkHtml;\n",
              "          element.appendChild(docLink);\n",
              "        }\n",
              "      </script>\n",
              "    </div>\n",
              "  </div>\n",
              "  "
            ]
          },
          "metadata": {},
          "execution_count": 3
        }
      ]
    },
    {
      "cell_type": "code",
      "execution_count": null,
      "metadata": {
        "colab": {
          "base_uri": "https://localhost:8080/"
        },
        "id": "qk-NZBP-elq6",
        "outputId": "0365ce73-e6fe-49a3-96c6-ce51aa28d2d7"
      },
      "outputs": [
        {
          "output_type": "stream",
          "name": "stdout",
          "text": [
            "<class 'pandas.core.frame.DataFrame'>\n",
            "RangeIndex: 6019843 entries, 0 to 6019842\n",
            "Data columns (total 16 columns):\n",
            " #   Column                  Dtype  \n",
            "---  ------                  -----  \n",
            " 0   Unnamed: 0              int64  \n",
            " 1   Unique Key              int64  \n",
            " 2   Created Date            object \n",
            " 3   Closed Date             object \n",
            " 4   Complaint Type          object \n",
            " 5   Location Type           object \n",
            " 6   Incident Zip            float64\n",
            " 7   Incident Address        object \n",
            " 8   Street Name             object \n",
            " 9   Address Type            object \n",
            " 10  City                    object \n",
            " 11  Status                  object \n",
            " 12  Resolution Description  object \n",
            " 13  Borough                 object \n",
            " 14  Latitude                float64\n",
            " 15  Longitude               float64\n",
            "dtypes: float64(3), int64(2), object(11)\n",
            "memory usage: 734.8+ MB\n"
          ]
        }
      ],
      "source": [
        "df.info() # Get the Dataframe columns details.\n"
      ]
    },
    {
      "cell_type": "code",
      "execution_count": null,
      "metadata": {
        "id": "cUp28eAielq_",
        "outputId": "969d8a68-c543-4144-9e4b-a13f4e8cc0a6"
      },
      "outputs": [
        {
          "data": {
            "text/html": [
              "<div>\n",
              "<style scoped>\n",
              "    .dataframe tbody tr th:only-of-type {\n",
              "        vertical-align: middle;\n",
              "    }\n",
              "\n",
              "    .dataframe tbody tr th {\n",
              "        vertical-align: top;\n",
              "    }\n",
              "\n",
              "    .dataframe thead th {\n",
              "        text-align: right;\n",
              "    }\n",
              "</style>\n",
              "<table border=\"1\" class=\"dataframe\">\n",
              "  <thead>\n",
              "    <tr style=\"text-align: right;\">\n",
              "      <th></th>\n",
              "      <th>Unnamed: 0</th>\n",
              "      <th>Unique Key</th>\n",
              "      <th>Created Date</th>\n",
              "      <th>Closed Date</th>\n",
              "      <th>Complaint Type</th>\n",
              "      <th>Location Type</th>\n",
              "      <th>Incident Zip</th>\n",
              "      <th>Incident Address</th>\n",
              "      <th>Street Name</th>\n",
              "      <th>Address Type</th>\n",
              "      <th>City</th>\n",
              "      <th>Status</th>\n",
              "      <th>Resolution Description</th>\n",
              "      <th>Borough</th>\n",
              "      <th>Latitude</th>\n",
              "      <th>Longitude</th>\n",
              "    </tr>\n",
              "  </thead>\n",
              "  <tbody>\n",
              "    <tr>\n",
              "      <td>250937</td>\n",
              "      <td>250937</td>\n",
              "      <td>15630431</td>\n",
              "      <td>01/01/2010 12:00:00 AM</td>\n",
              "      <td>01/02/2010 12:00:00 AM</td>\n",
              "      <td>HEATING</td>\n",
              "      <td>RESIDENTIAL BUILDING</td>\n",
              "      <td>11226.0</td>\n",
              "      <td>22 MARTENSE STREET</td>\n",
              "      <td>MARTENSE STREET</td>\n",
              "      <td>ADDRESS</td>\n",
              "      <td>BROOKLYN</td>\n",
              "      <td>Closed</td>\n",
              "      <td>More than one complaint was received for this ...</td>\n",
              "      <td>Unspecified</td>\n",
              "      <td>40.651236</td>\n",
              "      <td>-73.958293</td>\n",
              "    </tr>\n",
              "    <tr>\n",
              "      <td>250936</td>\n",
              "      <td>250936</td>\n",
              "      <td>15630315</td>\n",
              "      <td>01/01/2010 12:00:00 AM</td>\n",
              "      <td>01/16/2010 12:00:00 AM</td>\n",
              "      <td>PLUMBING</td>\n",
              "      <td>RESIDENTIAL BUILDING</td>\n",
              "      <td>11106.0</td>\n",
              "      <td>31-54 29 STREET</td>\n",
              "      <td>29 STREET</td>\n",
              "      <td>ADDRESS</td>\n",
              "      <td>ASTORIA</td>\n",
              "      <td>Closed</td>\n",
              "      <td>The Department of Housing Preservation and Dev...</td>\n",
              "      <td>Unspecified</td>\n",
              "      <td>40.764035</td>\n",
              "      <td>-73.925935</td>\n",
              "    </tr>\n",
              "    <tr>\n",
              "      <td>250935</td>\n",
              "      <td>250935</td>\n",
              "      <td>15630099</td>\n",
              "      <td>01/01/2010 12:00:00 AM</td>\n",
              "      <td>01/01/2010 12:00:00 AM</td>\n",
              "      <td>HEATING</td>\n",
              "      <td>RESIDENTIAL BUILDING</td>\n",
              "      <td>10466.0</td>\n",
              "      <td>1405 EAST 233 STREET</td>\n",
              "      <td>EAST 233 STREET</td>\n",
              "      <td>ADDRESS</td>\n",
              "      <td>BRONX</td>\n",
              "      <td>Closed</td>\n",
              "      <td>The Department of Housing Preservation and Dev...</td>\n",
              "      <td>Unspecified</td>\n",
              "      <td>40.888997</td>\n",
              "      <td>-73.836192</td>\n",
              "    </tr>\n",
              "    <tr>\n",
              "      <td>250934</td>\n",
              "      <td>250934</td>\n",
              "      <td>15629899</td>\n",
              "      <td>01/01/2010 12:00:00 AM</td>\n",
              "      <td>01/16/2010 12:00:00 AM</td>\n",
              "      <td>PLUMBING</td>\n",
              "      <td>RESIDENTIAL BUILDING</td>\n",
              "      <td>11106.0</td>\n",
              "      <td>31-54 29 STREET</td>\n",
              "      <td>29 STREET</td>\n",
              "      <td>ADDRESS</td>\n",
              "      <td>ASTORIA</td>\n",
              "      <td>Closed</td>\n",
              "      <td>The Department of Housing Preservation and Dev...</td>\n",
              "      <td>Unspecified</td>\n",
              "      <td>40.764035</td>\n",
              "      <td>-73.925935</td>\n",
              "    </tr>\n",
              "    <tr>\n",
              "      <td>250933</td>\n",
              "      <td>250933</td>\n",
              "      <td>15629728</td>\n",
              "      <td>01/01/2010 12:00:00 AM</td>\n",
              "      <td>01/12/2010 12:00:00 AM</td>\n",
              "      <td>HEATING</td>\n",
              "      <td>RESIDENTIAL BUILDING</td>\n",
              "      <td>11210.0</td>\n",
              "      <td>3101 FOSTER AVENUE</td>\n",
              "      <td>FOSTER AVENUE</td>\n",
              "      <td>ADDRESS</td>\n",
              "      <td>BROOKLYN</td>\n",
              "      <td>Closed</td>\n",
              "      <td>The Department of Housing Preservation and Dev...</td>\n",
              "      <td>Unspecified</td>\n",
              "      <td>40.638696</td>\n",
              "      <td>-73.946969</td>\n",
              "    </tr>\n",
              "  </tbody>\n",
              "</table>\n",
              "</div>"
            ],
            "text/plain": [
              "        Unnamed: 0  Unique Key            Created Date  \\\n",
              "250937      250937    15630431  01/01/2010 12:00:00 AM   \n",
              "250936      250936    15630315  01/01/2010 12:00:00 AM   \n",
              "250935      250935    15630099  01/01/2010 12:00:00 AM   \n",
              "250934      250934    15629899  01/01/2010 12:00:00 AM   \n",
              "250933      250933    15629728  01/01/2010 12:00:00 AM   \n",
              "\n",
              "                   Closed Date Complaint Type         Location Type  \\\n",
              "250937  01/02/2010 12:00:00 AM        HEATING  RESIDENTIAL BUILDING   \n",
              "250936  01/16/2010 12:00:00 AM       PLUMBING  RESIDENTIAL BUILDING   \n",
              "250935  01/01/2010 12:00:00 AM        HEATING  RESIDENTIAL BUILDING   \n",
              "250934  01/16/2010 12:00:00 AM       PLUMBING  RESIDENTIAL BUILDING   \n",
              "250933  01/12/2010 12:00:00 AM        HEATING  RESIDENTIAL BUILDING   \n",
              "\n",
              "        Incident Zip      Incident Address      Street Name Address Type  \\\n",
              "250937       11226.0    22 MARTENSE STREET  MARTENSE STREET      ADDRESS   \n",
              "250936       11106.0       31-54 29 STREET        29 STREET      ADDRESS   \n",
              "250935       10466.0  1405 EAST 233 STREET  EAST 233 STREET      ADDRESS   \n",
              "250934       11106.0       31-54 29 STREET        29 STREET      ADDRESS   \n",
              "250933       11210.0    3101 FOSTER AVENUE    FOSTER AVENUE      ADDRESS   \n",
              "\n",
              "            City  Status                             Resolution Description  \\\n",
              "250937  BROOKLYN  Closed  More than one complaint was received for this ...   \n",
              "250936   ASTORIA  Closed  The Department of Housing Preservation and Dev...   \n",
              "250935     BRONX  Closed  The Department of Housing Preservation and Dev...   \n",
              "250934   ASTORIA  Closed  The Department of Housing Preservation and Dev...   \n",
              "250933  BROOKLYN  Closed  The Department of Housing Preservation and Dev...   \n",
              "\n",
              "            Borough   Latitude  Longitude  \n",
              "250937  Unspecified  40.651236 -73.958293  \n",
              "250936  Unspecified  40.764035 -73.925935  \n",
              "250935  Unspecified  40.888997 -73.836192  \n",
              "250934  Unspecified  40.764035 -73.925935  \n",
              "250933  Unspecified  40.638696 -73.946969  "
            ]
          },
          "execution_count": 6,
          "metadata": {},
          "output_type": "execute_result"
        }
      ],
      "source": [
        "df.tail() # Get the last five rows"
      ]
    },
    {
      "cell_type": "code",
      "execution_count": null,
      "metadata": {
        "id": "64z8s4LhelrC",
        "outputId": "d14dc6c0-cf45-43bd-ddbb-3a117d47b984"
      },
      "outputs": [
        {
          "data": {
            "text/plain": [
              "52825"
            ]
          },
          "execution_count": 9,
          "metadata": {},
          "output_type": "execute_result"
        }
      ],
      "source": [
        "df['Incident Address'].isnull().sum() # check the total number null address"
      ]
    },
    {
      "cell_type": "code",
      "execution_count": null,
      "metadata": {
        "scrolled": true,
        "id": "h55eNbeVelrE"
      },
      "outputs": [],
      "source": [
        ""
      ]
    },
    {
      "cell_type": "code",
      "execution_count": null,
      "metadata": {
        "id": "6lv5L7v1elrH"
      },
      "outputs": [],
      "source": [
        ""
      ]
    },
    {
      "cell_type": "code",
      "execution_count": null,
      "metadata": {
        "colab": {
          "base_uri": "https://localhost:8080/"
        },
        "id": "nEbqzd4ielrL",
        "outputId": "2a83e29d-41f2-4fa7-f345-9b1cdec96527"
      },
      "outputs": [
        {
          "output_type": "stream",
          "name": "stdout",
          "text": [
            "                Complaint Type\n",
            "HEAT/HOT WATER         1261574\n",
            "HEATING                 887850\n"
          ]
        }
      ],
      "source": [
        "\n",
        "#Question 1\n",
        "#For the complaint types that you selected in the previous module that had at least 800,000 complaints logged, which borough \n",
        "#had the highest number of complaints submitted?\n",
        "\n",
        "\n",
        "treshold1=800000\n",
        "\n",
        "#count the amount of types in the 'Complain type' row, and store them in a new dataset\n",
        "df_CompType=df['Complaint Type'].value_counts()\n",
        "\n",
        "#print the 'Complaint type' dataset that has a report numbers that are greater than 800,000. Use thetreshold dataset created \n",
        "\n",
        "df_treshold1=(df_CompType[(df_CompType>treshold1)])\n",
        "df_treshold1=pd.DataFrame(df_treshold1)\n",
        "print(df_treshold1)\n"
      ]
    },
    {
      "cell_type": "code",
      "execution_count": null,
      "metadata": {
        "id": "4dKdwi6WelrQ"
      },
      "outputs": [],
      "source": [
        ""
      ]
    },
    {
      "cell_type": "code",
      "execution_count": null,
      "metadata": {
        "colab": {
          "base_uri": "https://localhost:8080/"
        },
        "id": "VvQiAJ8pelrU",
        "outputId": "5cfbb59c-0302-415d-880d-cdf0cee342c5"
      },
      "outputs": [
        {
          "output_type": "stream",
          "name": "stdout",
          "text": [
            "Total different complain type:  30\n"
          ]
        }
      ],
      "source": [
        "#How many different Complaint Types can you find in the dataset, including duplicates entries of the same type?\n",
        "\n",
        "total_compl= df['Complaint Type'].nunique()\n",
        "\n",
        "print('Total different complain type: ',total_compl)"
      ]
    },
    {
      "cell_type": "code",
      "execution_count": null,
      "metadata": {
        "colab": {
          "base_uri": "https://localhost:8080/"
        },
        "id": "L4KctEscelrW",
        "outputId": "e570b758-a281-4baa-a4ec-48a251d88d9e"
      },
      "outputs": [
        {
          "output_type": "stream",
          "name": "stdout",
          "text": [
            "The total amount of complaints that exist are:  6019843\n"
          ]
        }
      ],
      "source": [
        "#What is the total number of complaints that exist in the dataset?\n",
        "\n",
        "total_compl= df['Complaint Type'].count()\n",
        "\n",
        "\n",
        "print('The total amount of complaints that exist are: ',total_compl)"
      ]
    },
    {
      "cell_type": "code",
      "execution_count": null,
      "metadata": {
        "colab": {
          "base_uri": "https://localhost:8080/"
        },
        "id": "w1m2fRlOelrc",
        "outputId": "c7b74446-7007-4c4b-d14c-dc32c62a5725"
      },
      "outputs": [
        {
          "output_type": "stream",
          "name": "stdout",
          "text": [
            "The number of elevator complaints are:  6725\n"
          ]
        }
      ],
      "source": [
        "#How many Elevator complaints can you find in the dataset?\n",
        "\n",
        "Elevator_Count=df_CompType['ELEVATOR']\n",
        "\n",
        "\n",
        "print('The number of elevator complaints are: ',Elevator_Count)\n"
      ]
    },
    {
      "cell_type": "code",
      "source": [
        "df_CompType"
      ],
      "metadata": {
        "colab": {
          "base_uri": "https://localhost:8080/"
        },
        "id": "WaXKabngzpiD",
        "outputId": "6112c7e6-3d69-461c-b6db-4006817432f6"
      },
      "execution_count": null,
      "outputs": [
        {
          "output_type": "execute_result",
          "data": {
            "text/plain": [
              "HEAT/HOT WATER            1261574\n",
              "HEATING                    887850\n",
              "PLUMBING                   711130\n",
              "GENERAL CONSTRUCTION       500863\n",
              "UNSANITARY CONDITION       451643\n",
              "PAINT - PLASTER            361257\n",
              "PAINT/PLASTER              346438\n",
              "ELECTRIC                   307310\n",
              "NONCONST                   260890\n",
              "DOOR/WINDOW                205278\n",
              "WATER LEAK                 193631\n",
              "GENERAL                    151308\n",
              "FLOORING/STAIRS            137402\n",
              "APPLIANCE                  112831\n",
              "HPD Literature Request      52824\n",
              "SAFETY                      51529\n",
              "OUTSIDE BUILDING             7142\n",
              "ELEVATOR                     6725\n",
              "Unsanitary Condition         5499\n",
              "CONSTRUCTION                 5078\n",
              "General                      1163\n",
              "Safety                        424\n",
              "STRUCTURAL                     16\n",
              "Plumbing                       11\n",
              "AGENCY                          9\n",
              "VACANT APARTMENT                6\n",
              "Outside Building                6\n",
              "Appliance                       4\n",
              "Electric                        1\n",
              "Mold                            1\n",
              "Name: Complaint Type, dtype: int64"
            ]
          },
          "metadata": {},
          "execution_count": 24
        }
      ]
    },
    {
      "cell_type": "code",
      "execution_count": null,
      "metadata": {
        "colab": {
          "base_uri": "https://localhost:8080/"
        },
        "id": "AAlg6nvlelrd",
        "outputId": "a30d5f1e-14c3-42e8-9b48-2f73e326e810"
      },
      "outputs": [
        {
          "output_type": "stream",
          "name": "stdout",
          "text": [
            "The amount of electric complaints are:  307311\n"
          ]
        }
      ],
      "source": [
        "elect_comp=df_CompType['ELECTRIC']+df_CompType['Electric']\n",
        "\n",
        "#print the total amount of electric complaints, using the new dataset\n",
        "print('The amount of electric complaints are: ',elect_comp)"
      ]
    },
    {
      "cell_type": "code",
      "execution_count": null,
      "metadata": {
        "colab": {
          "base_uri": "https://localhost:8080/"
        },
        "id": "PDey7FO1elrk",
        "outputId": "7b5ca271-f64e-403b-f49f-9f2a208030bd"
      },
      "outputs": [
        {
          "output_type": "stream",
          "name": "stdout",
          "text": [
            "                Complaint Type\n",
            "HEAT/HOT WATER         1261574\n",
            "HEATING                 887850\n"
          ]
        }
      ],
      "source": [
        "\n",
        "#5. Using 800,000 as a threshold, what complaint type(s) do you recommend the Department of Housing Preservation and Development \n",
        "#of New York City address first? Select all that apply.\n",
        "\n",
        "treshold=800000\n",
        "\n",
        "\n",
        "df_treshold=(df_CompType[(df_CompType>treshold)])\n",
        "df_treshold=pd.DataFrame(df_treshold)\n",
        "print(df_treshold)"
      ]
    },
    {
      "cell_type": "code",
      "execution_count": null,
      "metadata": {
        "id": "otTp-SmWelrl"
      },
      "outputs": [],
      "source": [
        "\n",
        "df_treshold.reset_index(inplace=True)"
      ]
    },
    {
      "cell_type": "code",
      "source": [
        ""
      ],
      "metadata": {
        "id": "Jj4U2oKN8EI_"
      },
      "execution_count": null,
      "outputs": []
    },
    {
      "cell_type": "code",
      "execution_count": null,
      "metadata": {
        "id": "0k-0-KPoelrp",
        "outputId": "97a8fba0-c089-4155-f2bb-324da17b4c7a",
        "colab": {
          "base_uri": "https://localhost:8080/"
        }
      },
      "outputs": [
        {
          "output_type": "stream",
          "name": "stdout",
          "text": [
            "The department should focus first on the following complaints:  HEAT/HOT WATER and  HEATING\n"
          ]
        }
      ],
      "source": [
        "#What Areas Should the Agency Focus On?\n",
        "\n",
        "print('The department should focus first on the following complaints: ',df_treshold['index'].iloc[0],'and ',\n",
        "     df_treshold['index'].iloc[1])"
      ]
    },
    {
      "cell_type": "code",
      "execution_count": null,
      "metadata": {
        "id": "MbH7U1Zcelrq",
        "outputId": "2a0d48cb-fd17-4680-ac4a-5204494b8d3f"
      },
      "outputs": [
        {
          "name": "stdout",
          "output_type": "stream",
          "text": [
            "The total amount of complaints that exist are:  6019843\n"
          ]
        }
      ],
      "source": [
        "total_compl= df['Borough'].count()\n",
        "\n",
        "#print the total amount of complaints that were stored in the dataset\n",
        "print('The total amount of complaints that exist are: ',total_compl)"
      ]
    },
    {
      "cell_type": "code",
      "execution_count": 48,
      "metadata": {
        "id": "N0v1pz13elr3",
        "outputId": "3f2fd848-e37e-48dc-f72e-5a1db49dd5b8",
        "colab": {
          "base_uri": "https://localhost:8080/"
        }
      },
      "outputs": [
        {
          "output_type": "execute_result",
          "data": {
            "text/plain": [
              "<bound method NDFrame._add_numeric_operations.<locals>.sum of BROOKLYN         1739886\n",
              "BRONX            1617956\n",
              "MANHATTAN        1055225\n",
              "Unspecified       873221\n",
              "QUEENS            645971\n",
              "STATEN ISLAND      87584\n",
              "Name: Borough, dtype: int64>"
            ]
          },
          "metadata": {},
          "execution_count": 48
        }
      ],
      "source": [
        "df['Borough'].value_counts().sum"
      ]
    },
    {
      "cell_type": "code",
      "execution_count": 56,
      "metadata": {
        "id": "AfSmiTEgelr-",
        "outputId": "428c0fb4-bd17-4b9b-e3dc-786218ad1106",
        "colab": {
          "base_uri": "https://localhost:8080/"
        }
      },
      "outputs": [
        {
          "output_type": "stream",
          "name": "stdout",
          "text": [
            "Zip code with maximum complain :  11226.0\n",
            "The number of complaints presented in this Zip Code was:  215709\n"
          ]
        }
      ],
      "source": [
        "#question 3\n",
        "#For the complaint types that you selected in the previous module that had at least 800,000 complaints logged, which ZIP code \n",
        "#had the highest number of complainted submitted?\n",
        "\n",
        "\n",
        "df_zip= df['Incident Zip'].value_counts()\n",
        "#convert into a dataframe\n",
        "df_zip=pd.DataFrame(df_zip)\n",
        "#Reset the index, so it can be taken into account as a new column\n",
        "df_zip=df_zip.reset_index()\n",
        "\n",
        "zipcode_with_max_complain = df_zip.iloc[0,0]\n",
        "\n",
        "complainNumber=df_zip.iloc[0,1]\n",
        "df_zip.rename(columns={'index':'Zip Code'})\n",
        "#print the answer\n",
        "print('Zip code with maximum complain : ',zipcode_with_max_complain)\n",
        "print('The number of complaints presented in this Zip Code was: ',complainNumber)\n"
      ]
    },
    {
      "cell_type": "code",
      "execution_count": 61,
      "metadata": {
        "id": "aSOkBlCDelsA",
        "outputId": "637107ab-383c-449f-c5f9-f3185436348d",
        "colab": {
          "base_uri": "https://localhost:8080/"
        }
      },
      "outputs": [
        {
          "output_type": "stream",
          "name": "stdout",
          "text": [
            "Complain status :\n",
            " Closed         5886253\n",
            "Open            133220\n",
            "In Progress        364\n",
            "Assigned             4\n",
            "Pending              2\n",
            "Name: Status, dtype: int64\n"
          ]
        }
      ],
      "source": [
        "#Question 5\n",
        "#For the complaint types that you selected in the previous module that had at least 800,000 complaints logged, \n",
        "#how many of the submitted tickets were closed?\n",
        "\n",
        "\n",
        "df_status=df['Status'].value_counts()\n",
        "\n",
        "\n",
        "print(\"Complain status :\\n\",df_status)\n"
      ]
    }
  ],
  "metadata": {
    "kernelspec": {
      "display_name": "Python 3",
      "language": "python",
      "name": "python3"
    },
    "colab": {
      "name": "Data Scienec capstone.ipynb",
      "provenance": [],
      "collapsed_sections": []
    }
  },
  "nbformat": 4,
  "nbformat_minor": 0
}